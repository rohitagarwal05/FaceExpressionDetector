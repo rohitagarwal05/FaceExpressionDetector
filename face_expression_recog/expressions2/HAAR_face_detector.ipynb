{
 "cells": [
  {
   "cell_type": "code",
   "execution_count": 1,
   "metadata": {},
   "outputs": [],
   "source": [
    "import cv2\n",
    "import numpy as np\n",
    "import os"
   ]
  },
  {
   "cell_type": "code",
   "execution_count": 2,
   "metadata": {},
   "outputs": [],
   "source": [
    "# opencv comes with a lot pre trained models for detecting objects like face, smiles, license plates etc as well\n",
    "# as a trainer which we can use to train for detection of our own objects\n",
    "\n",
    "# these can be found in opencv/data/haarcascade\n",
    "\n",
    "# here we ll load haarcascade frontal face detection pre trained model"
   ]
  },
  {
   "cell_type": "code",
   "execution_count": 3,
   "metadata": {},
   "outputs": [],
   "source": [
    "faceCascade = cv2.CascadeClassifier('haarcascade_frontalface_default.xml')\n",
    "\n",
    "eyeCascade = cv2.CascadeClassifier('haarcascade_eye.xml')"
   ]
  },
  {
   "cell_type": "code",
   "execution_count": 4,
   "metadata": {},
   "outputs": [
    {
     "name": "stderr",
     "output_type": "stream",
     "text": [
      "/usr/local/lib/python3.5/dist-packages/h5py/__init__.py:36: FutureWarning: Conversion of the second argument of issubdtype from `float` to `np.floating` is deprecated. In future, it will be treated as `np.float64 == np.dtype(float).type`.\n",
      "  from ._conv import register_converters as _register_converters\n",
      "Using TensorFlow backend.\n"
     ]
    }
   ],
   "source": [
    "from keras.models import load_model"
   ]
  },
  {
   "cell_type": "code",
   "execution_count": 5,
   "metadata": {},
   "outputs": [
    {
     "name": "stderr",
     "output_type": "stream",
     "text": [
      "/usr/local/lib/python3.5/dist-packages/keras/models.py:291: UserWarning: Error in loading the saved optimizer state. As a result, your model is starting with a freshly initialized optimizer.\n",
      "  warnings.warn('Error in loading the saved optimizer '\n"
     ]
    }
   ],
   "source": [
    "model = load_model(os.path.abspath('saved_model') + '/keras_face_expres_model_new150.h5')"
   ]
  },
  {
   "cell_type": "code",
   "execution_count": null,
   "metadata": {},
   "outputs": [],
   "source": [
    "capture = cv2.VideoCapture(0)\n",
    "\n",
    "# choosing codec for saving into video file\n",
    "\n",
    "#fourcc = cv2.VideoWriter_fourcc(*'XVID')\n",
    "\n",
    "# choosing file for output writing\n",
    "\n",
    "#out = cv2.VideoWriter('output_face.avi', fourcc, 20.0, (640, 480))\n",
    "font = cv2.FONT_HERSHEY_SIMPLEX\n",
    "count = 0\n",
    "classDicti = {0:'Angry',1:'Disgust',2:'Fear',3:'Happy',4:'Sad',5:'Surprise',6:'Neutral'}\n",
    "\n",
    "while True:\n",
    "    \n",
    "    predictionArray = []\n",
    "    ret, img = capture.read()\n",
    "    \n",
    "    gray = cv2.cvtColor(img, cv2.COLOR_BGR2GRAY)\n",
    "    \n",
    "    faces = faceCascade.detectMultiScale(gray, 1.3, 5)\n",
    "\n",
    "    \n",
    "    # the above returns positions of the rectangle around face\n",
    "    \n",
    "    for (x, y, w, h) in faces:\n",
    "        \n",
    "        cv2.rectangle(img, (x+22,y+12), (x+w-22, y+h-12), (255, 0, 0), 2)\n",
    "    \n",
    "        # now eyes will only be detected inside face, it shouldnt b detected outside,\n",
    "        # so we limit the roi to face itself\n",
    "        roiGray = gray[y+12:y+h-12, x+22:x+w-22]\n",
    "        roiColor = img[y+12:y+h-12, x+22:x+w-22]\n",
    "        \n",
    "        eyes = eyeCascade.detectMultiScale(roiGray)\n",
    "        \n",
    "        #for (ex, ey, ew, eh) in eyes:\n",
    "        \n",
    "            #cv2.rectangle(roiColor, (ex,ey), (ex + ew, ey + eh), (0, 255, 0), 2)\n",
    "        \n",
    "        # or we could choose to lock the face when eyes are detected by changing\n",
    "        # the box color\n",
    "        for (ex, ey, ew, eh) in eyes:\n",
    "            cv2.rectangle(img, (x+22,y+12), (x+w-22, y+h-12), (0, 255, 0), 2)\n",
    "    \n",
    "    #out.write(img)\n",
    "    cv2.imshow('img', img)\n",
    "    \n",
    "    c = cv2.waitKey(1)\n",
    "    \n",
    "    if 's' == chr(c & 255):\n",
    "        \n",
    "        cropFace = roiGray\n",
    "        cropFaceResize = cv2.resize(cropFace, (48, 48))\n",
    "        inputFace = np.reshape(cropFaceResize, (48, 48, 1))\n",
    "        predictionArray.append(inputFace)\n",
    "        predictionArray = np.array(predictionArray)\n",
    "        \n",
    "        predict = model.predict_classes(predictionArray)\n",
    "        #print(predict[0])\n",
    "        #cv2.imwrite('Detected_face' + str(count) + '.jpg', cropFace)\n",
    "        cv2.putText(img, classDicti[predict[0]], (100,100),font, 3, (200,255,255), cv2.LINE_AA )\n",
    "        #cv2.imwrite('Detected_face' + str(count) + '.jpg', img)\n",
    "        cv2.imshow('img2', img)\n",
    "        count +=1\n",
    "    if 'q' == chr(c & 255):\n",
    "        break\n",
    "cv2.destroyAllWindows()              \n",
    "capture.release()"
   ]
  },
  {
   "cell_type": "code",
   "execution_count": null,
   "metadata": {},
   "outputs": [],
   "source": []
  }
 ],
 "metadata": {
  "kernelspec": {
   "display_name": "Python 3",
   "language": "python",
   "name": "python3"
  },
  "language_info": {
   "codemirror_mode": {
    "name": "ipython",
    "version": 3
   },
   "file_extension": ".py",
   "mimetype": "text/x-python",
   "name": "python",
   "nbconvert_exporter": "python",
   "pygments_lexer": "ipython3",
   "version": "3.5.2"
  }
 },
 "nbformat": 4,
 "nbformat_minor": 2
}
